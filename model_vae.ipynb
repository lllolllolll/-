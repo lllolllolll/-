{
 "cells": [
  {
   "cell_type": "code",
   "execution_count": null,
   "metadata": {},
   "outputs": [
    {
     "name": "stdout",
     "output_type": "stream",
     "text": [
      "Requirement already satisfied: jieba in ./anaconda3/envs/pytorch/lib/python3.8/site-packages (0.42.1)\n",
      "\n",
      "\u001b[1m[\u001b[0m\u001b[34;49mnotice\u001b[0m\u001b[1;39;49m]\u001b[0m\u001b[39;49m A new release of pip available: \u001b[0m\u001b[31;49m22.3.1\u001b[0m\u001b[39;49m -> \u001b[0m\u001b[32;49m23.0\u001b[0m\n",
      "\u001b[1m[\u001b[0m\u001b[34;49mnotice\u001b[0m\u001b[1;39;49m]\u001b[0m\u001b[39;49m To update, run: \u001b[0m\u001b[32;49mpip install --upgrade pip\u001b[0m\n"
     ]
    }
   ],
   "source": [
    "!pip install jieba"
   ]
  },
  {
   "cell_type": "code",
   "execution_count": 319,
   "metadata": {},
   "outputs": [],
   "source": [
    "import numpy as np\n",
    "import pandas as pd\n",
    "import jieba"
   ]
  },
  {
   "cell_type": "code",
   "execution_count": 320,
   "metadata": {},
   "outputs": [],
   "source": [
    "data = pd.read_excel('/home/lll/Documents/大创数据/data_.xlsx')"
   ]
  },
  {
   "cell_type": "code",
   "execution_count": 321,
   "metadata": {},
   "outputs": [],
   "source": [
    "data_ = data['goods_name']\n",
    "data = data['goods_name']"
   ]
  },
  {
   "cell_type": "code",
   "execution_count": null,
   "metadata": {},
   "outputs": [],
   "source": []
  },
  {
   "cell_type": "code",
   "execution_count": 322,
   "metadata": {},
   "outputs": [],
   "source": [
    "data__ = []\n",
    "for i in range(len(data)):\n",
    "    data__.append(list(jieba.cut(data[i])))\n",
    "    data[i] = list(jieba.cut(data[i]))"
   ]
  },
  {
   "cell_type": "code",
   "execution_count": 323,
   "metadata": {},
   "outputs": [],
   "source": [
    "dict_ = []\n",
    "for i in range(len(data_)):\n",
    "    for j in data_[i]:\n",
    "        dict_.append(j)"
   ]
  },
  {
   "cell_type": "code",
   "execution_count": 324,
   "metadata": {},
   "outputs": [],
   "source": [
    "dict_ = np.unique(dict_)"
   ]
  },
  {
   "cell_type": "code",
   "execution_count": 325,
   "metadata": {},
   "outputs": [],
   "source": [
    "import re\n",
    "p = re.compile(r'[\\u4e00-\\u9fa5]*') "
   ]
  },
  {
   "cell_type": "code",
   "execution_count": 326,
   "metadata": {},
   "outputs": [
    {
     "data": {
      "text/plain": [
       "''"
      ]
     },
     "execution_count": 326,
     "metadata": {},
     "output_type": "execute_result"
    }
   ],
   "source": [
    "re.search(p,'sed').group()"
   ]
  },
  {
   "cell_type": "code",
   "execution_count": 327,
   "metadata": {},
   "outputs": [],
   "source": [
    "a = []\n",
    "for i in range(len(dict_)):\n",
    "    if re.search(p,dict_[i]).group()=='':\n",
    "       a.append(i)\n",
    "dict__ = np.delete(dict_,a)              "
   ]
  },
  {
   "cell_type": "code",
   "execution_count": 328,
   "metadata": {},
   "outputs": [],
   "source": [
    "from gensim.models import Word2Vec\n",
    "model = Word2Vec(data)\n",
    "model.wv.save_word2vec_format('word2vec.vector',binary=False)"
   ]
  },
  {
   "cell_type": "code",
   "execution_count": 329,
   "metadata": {},
   "outputs": [],
   "source": [
    "dict_ = dict(zip(dict_,np.arange(len(dict_))))"
   ]
  },
  {
   "cell_type": "code",
   "execution_count": 330,
   "metadata": {},
   "outputs": [],
   "source": [
    "for i in range(len(data__)):\n",
    "    mm = []\n",
    "    for j in data__[i]:\n",
    "        mm.append(dict_[j])\n",
    "    data__[i] = mm    "
   ]
  },
  {
   "cell_type": "code",
   "execution_count": 341,
   "metadata": {},
   "outputs": [],
   "source": [
    "def apply_to_zeros(lst, dtype=np.int64):\n",
    "    inner_max_len = max(map(len, lst))\n",
    "    result = np.zeros([len(lst), inner_max_len], dtype)\n",
    "    for i, row in enumerate(lst):\n",
    "        for j, val in enumerate(row):\n",
    "            result[i][j] = val\n",
    "    return result"
   ]
  },
  {
   "cell_type": "code",
   "execution_count": 342,
   "metadata": {},
   "outputs": [],
   "source": [
    "data = apply_to_zeros(data__)"
   ]
  },
  {
   "cell_type": "code",
   "execution_count": 369,
   "metadata": {},
   "outputs": [],
   "source": [
    "import torch as t\n",
    "from torch import nn\n",
    "import torch.nn.functional as F\n",
    "import torchvision\n",
    "from torch.utils.data import DataLoader\n",
    "import utils\n",
    "import torch.optim as optim\n",
    "import torch\n",
    "import torchvision\n",
    "import torchvision.transforms as transforms\n",
    "import torch.nn as nn\n",
    "import torch.nn.functional as F\n",
    "from torch.autograd import Variable\n",
    "import torch.optim as optim  \n",
    "import matplotlib.pyplot as plt\n",
    "import numpy as np\n",
    "\n",
    "class VAE(nn.Module):\n",
    "    def __init__(self):\n",
    "        super(VAE, self).__init__()\n",
    "\n",
    "        self.fc1 = nn.Linear(2826, 200)\n",
    "        self.fc2_mu = nn.Linear(200, 10)\n",
    "        self.fc2_log_std = nn.Linear(200, 10)\n",
    "        self.fc3 = nn.Linear(10, 200)\n",
    "        self.fc4 = nn.Linear(200, 2826)\n",
    "\n",
    "    def encode(self, x):\n",
    "        h1 = F.relu(self.fc1(x))\n",
    "        mu = self.fc2_mu(h1)\n",
    "        log_std = self.fc2_log_std(h1)\n",
    "        return mu, log_std\n",
    "\n",
    "    def decode(self, z):\n",
    "        h3 = F.relu(self.fc3(z))\n",
    "        recon = torch.sigmoid(self.fc4(h3))  # use sigmoid because the input image's pixel is between 0-1\n",
    "        return recon\n",
    "\n",
    "    def reparametrize(self, mu, log_std):\n",
    "        std = torch.exp(log_std)\n",
    "        eps = torch.randn_like(std)  # simple from standard normal distribution\n",
    "        z = mu + eps * std\n",
    "        return z\n",
    "\n",
    "    def forward(self, x):\n",
    "        mu, log_std = self.encode(x)\n",
    "        z = self.reparametrize(mu, log_std)\n",
    "        recon = self.decode(z)\n",
    "        return recon, mu, log_std\n",
    "\n",
    "    def loss_function(self, recon, x, mu, log_std) -> torch.Tensor:\n",
    "        recon_loss = 0\n",
    "        for i in x:\n",
    "            recon_ = F.mse_loss(recon, i, reduction=\"sum\")  # use \"mean\" may have a bad effect on gradients\n",
    "            recon_loss += recon_\n",
    "        recon_loss = recon_loss/len(x)\n",
    "        kl_loss = -0.5 * (1 + 2*log_std - mu.pow(2) - torch.exp(2*log_std))\n",
    "        kl_loss = torch.sum(kl_loss)                        #kl散度\n",
    "        loss = recon_loss + kl_loss\n",
    "        return loss\n"
   ]
  },
  {
   "cell_type": "code",
   "execution_count": 243,
   "metadata": {},
   "outputs": [],
   "source": [
    "loss = vae.loss_function(recon, vae.data, mu, log_std)\n",
    "loss.backward()    \n",
    "optimizer = optim.SGD(vae.parameters(), lr=0.001, momentum=0.9)\n",
    "optimizer.step()  "
   ]
  },
  {
   "cell_type": "code",
   "execution_count": 370,
   "metadata": {},
   "outputs": [],
   "source": [
    "def trainandsave(data,epoch):\n",
    "    # 神经网络结构\n",
    "    vae = VAE()\n",
    "    vae.data = torch.Tensor(data)\n",
    "    optimizer = optim.SGD(vae.parameters(), lr=0.001, momentum=0.9)   # 学习率为0.001\n",
    "    # 训练部分\n",
    "    for epoch in range(epoch):\n",
    "                            # 每个epoch要训练所有的图片，每训练完成200张便打印一下训练的效果（loss值）\n",
    "        running_loss = 0.0  # 定义一个变量方便我们对loss进行输出\n",
    "        loss_data = []\n",
    "        for i, data in enumerate(vae.data, 0):  # 这里我们遇到了第一步中出现的trailoader，代码传入数据\n",
    "            # enumerate是python的内置函数，既获得索引也获得数据\n",
    "            # get the inputs\n",
    "           \n",
    "            optimizer.zero_grad()        # 梯度置零，因为反向传播过程中梯度会累加上一次循环的梯度\n",
    "\n",
    "            # forward + backward + optimize\n",
    "            recon, mu, log_std = vae(data)      # 把数据输进CNN网络net\n",
    "            loss = vae.loss_function(recon, vae.data, mu, log_std)  # 计算损失值\n",
    "            loss.backward()                 # loss反向传播\n",
    "            optimizer.step()   \n",
    "                            # 反向传播后参数更新 \n",
    "            running_loss += loss.data      # loss累加\n",
    "            if i%200 ==0:\n",
    "               print('[%d, %5d] loss: %.3f' %(epoch + 1, i + 1, running_loss / 200))  # 然后再除以200，就得到这两百次的平均损失值\n",
    "               loss_data.append(running_loss)\n",
    "               running_loss = 0.0  # 这一个200次结束后，就把running_loss归零，下一个200次继续使用\n",
    "        plt.plot(np.arange(len(loss_data)),loss_data)\n",
    "    print('Finished Training')\n",
    "    # 保存神经网络\n",
    "    torch.save(vae, 'vae.pkl')                      # 保存整个神经网络的结构和模型参数\n",
    "    torch.save(vae.state_dict(), 'vae_params.pkl')  # 只保存神经网络的模型参数"
   ]
  },
  {
   "cell_type": "code",
   "execution_count": 371,
   "metadata": {},
   "outputs": [
    {
     "name": "stdout",
     "output_type": "stream",
     "text": [
      "[1,     1] loss: 3.620\n",
      "[1,   201] loss: 82.562\n",
      "[1,   401] loss: 21.011\n",
      "[1,   601] loss: 24.258\n",
      "[1,   801] loss: 26.682\n",
      "[1,  1001] loss: 21.812\n",
      "[1,  1201] loss: 28.888\n",
      "[1,  1401] loss: 26.073\n",
      "[1,  1601] loss: 21.835\n",
      "[1,  1801] loss: 22.475\n",
      "[1,  2001] loss: 19.814\n",
      "[1,  2201] loss: 17.081\n",
      "[1,  2401] loss: 13.851\n",
      "[1,  2601] loss: 18.159\n",
      "[1,  2801] loss: 18.837\n",
      "[1,  3001] loss: 17.239\n",
      "[1,  3201] loss: 15.440\n",
      "[1,  3401] loss: 13.603\n",
      "[1,  3601] loss: 12.021\n",
      "[1,  3801] loss: 12.421\n",
      "[1,  4001] loss: 12.692\n",
      "[1,  4201] loss: 12.605\n",
      "[1,  4401] loss: 11.805\n",
      "[2,     1] loss: 0.056\n",
      "[2,   201] loss: 11.460\n",
      "[2,   401] loss: 12.074\n",
      "[2,   601] loss: 11.583\n",
      "[2,   801] loss: 11.641\n",
      "[2,  1001] loss: 14.072\n",
      "[2,  1201] loss: 11.825\n",
      "[2,  1401] loss: 12.626\n",
      "[2,  1601] loss: 12.656\n",
      "[2,  1801] loss: 11.512\n",
      "[2,  2001] loss: 11.359\n",
      "[2,  2201] loss: 11.238\n",
      "[2,  2401] loss: 11.276\n",
      "[2,  2601] loss: 11.157\n",
      "[2,  2801] loss: 11.034\n",
      "[2,  3001] loss: 11.098\n",
      "[2,  3201] loss: 10.929\n",
      "[2,  3401] loss: 11.089\n",
      "[2,  3601] loss: 10.970\n",
      "[2,  3801] loss: 11.862\n",
      "[2,  4001] loss: 11.002\n",
      "[2,  4201] loss: 10.869\n",
      "[2,  4401] loss: 10.869\n",
      "[3,     1] loss: 0.053\n",
      "[3,   201] loss: 10.672\n",
      "[3,   401] loss: 10.804\n",
      "[3,   601] loss: 10.679\n",
      "[3,   801] loss: 10.639\n",
      "[3,  1001] loss: 10.594\n",
      "[3,  1201] loss: 10.618\n",
      "[3,  1401] loss: 10.589\n",
      "[3,  1601] loss: 10.548\n",
      "[3,  1801] loss: 10.501\n",
      "[3,  2001] loss: 10.467\n",
      "[3,  2201] loss: 10.479\n",
      "[3,  2401] loss: 10.471\n",
      "[3,  2601] loss: 10.460\n",
      "[3,  2801] loss: 10.473\n",
      "[3,  3001] loss: 10.457\n",
      "[3,  3201] loss: 10.459\n",
      "[3,  3401] loss: 10.442\n",
      "[3,  3601] loss: 10.444\n",
      "[3,  3801] loss: 10.445\n",
      "[3,  4001] loss: 10.444\n",
      "[3,  4201] loss: 10.444\n",
      "[3,  4401] loss: 10.435\n",
      "[4,     1] loss: 0.052\n",
      "[4,   201] loss: 10.431\n",
      "[4,   401] loss: 10.434\n",
      "[4,   601] loss: 10.432\n",
      "[4,   801] loss: 10.430\n",
      "[4,  1001] loss: 10.427\n",
      "[4,  1201] loss: 10.423\n",
      "[4,  1401] loss: 10.429\n",
      "[4,  1601] loss: 10.429\n",
      "[4,  1801] loss: 10.426\n",
      "[4,  2001] loss: 10.426\n",
      "[4,  2201] loss: 10.428\n",
      "[4,  2401] loss: 10.426\n",
      "[4,  2601] loss: 10.423\n",
      "[4,  2801] loss: 10.424\n",
      "[4,  3001] loss: 10.423\n",
      "[4,  3201] loss: 10.421\n",
      "[4,  3401] loss: 10.421\n",
      "[4,  3601] loss: 10.422\n",
      "[4,  3801] loss: 10.422\n",
      "[4,  4001] loss: 10.421\n",
      "[4,  4201] loss: 10.419\n",
      "[4,  4401] loss: 10.421\n",
      "[5,     1] loss: 0.052\n",
      "[5,   201] loss: 10.420\n",
      "[5,   401] loss: 10.420\n",
      "[5,   601] loss: 10.418\n",
      "[5,   801] loss: 10.420\n",
      "[5,  1001] loss: 10.418\n",
      "[5,  1201] loss: 10.419\n",
      "[5,  1401] loss: 10.418\n",
      "[5,  1601] loss: 10.417\n",
      "[5,  1801] loss: 10.417\n",
      "[5,  2001] loss: 10.417\n",
      "[5,  2201] loss: 10.418\n",
      "[5,  2401] loss: 10.416\n",
      "[5,  2601] loss: 10.415\n",
      "[5,  2801] loss: 10.417\n",
      "[5,  3001] loss: 10.415\n",
      "[5,  3201] loss: 10.416\n",
      "[5,  3401] loss: 10.416\n",
      "[5,  3601] loss: 10.416\n",
      "[5,  3801] loss: 10.416\n",
      "[5,  4001] loss: 10.416\n",
      "[5,  4201] loss: 10.415\n",
      "[5,  4401] loss: 10.415\n",
      "Finished Training\n"
     ]
    },
    {
     "data": {
      "image/png": "[encoded data removed]",
      "text/plain": [
       "<Figure size 640x480 with 1 Axes>"
      ]
     },
     "metadata": {},
     "output_type": "display_data"
    }
   ],
   "source": [
    "trainandsave(data_vae,5)"
   ]
  },
  {
   "cell_type": "code",
   "execution_count": 372,
   "metadata": {},
   "outputs": [],
   "source": [
    "def reload_net():\n",
    "    trainednet = torch.load('vae.pkl')\n",
    "    return trainednet\n",
    "\n",
    "def imshow(img):\n",
    "    img = img / 2 + 0.5     # unnormalize\n",
    "    npimg = img.numpy()\n",
    "    plt.imshow(np.transpose(npimg, (1, 2, 0)))\n",
    "    plt.show()"
   ]
  },
  {
   "cell_type": "code",
   "execution_count": 373,
   "metadata": {},
   "outputs": [
    {
     "data": {
      "text/plain": [
       "VAE(\n",
       "  (fc1): Linear(in_features=2826, out_features=200, bias=True)\n",
       "  (fc2_mu): Linear(in_features=200, out_features=10, bias=True)\n",
       "  (fc2_log_std): Linear(in_features=200, out_features=10, bias=True)\n",
       "  (fc3): Linear(in_features=10, out_features=200, bias=True)\n",
       "  (fc4): Linear(in_features=200, out_features=2826, bias=True)\n",
       ")"
      ]
     },
     "execution_count": 373,
     "metadata": {},
     "output_type": "execute_result"
    }
   ],
   "source": [
    "reload_net()"
   ]
  },
  {
   "cell_type": "code",
   "execution_count": null,
   "metadata": {},
   "outputs": [],
   "source": [
    "vae."
   ]
  }
 ],
 "metadata": {
  "kernelspec": {
   "display_name": "Python 3.8.5 ('pytorch')",
   "language": "python",
   "name": "python3"
  },
  "language_info": {
   "codemirror_mode": {
    "name": "ipython",
    "version": 3
   },
   "file_extension": ".py",
   "mimetype": "text/x-python",
   "name": "python",
   "nbconvert_exporter": "python",
   "pygments_lexer": "ipython3",
   "version": "3.8.5"
  },
  "orig_nbformat": 4,
  "vscode": {
   "interpreter": {
    "hash": "6597236c088b6b295775d95e97725f9e660ffb40eeaa07149ca905a97f1edbfc"
   }
  }
 },
 "nbformat": 4,
 "nbformat_minor": 2
}
